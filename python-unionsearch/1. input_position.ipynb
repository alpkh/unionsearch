{
 "cells": [
  {
   "cell_type": "code",
   "execution_count": 1,
   "metadata": {},
   "outputs": [],
   "source": [
    "import pandas as pd\n",
    "import mysql.connector\n",
    "\n",
    "# Load data from Excel\n",
    "file_path = 'positions_test_v2.xlsx'\n",
    "data = pd.read_excel(file_path)\n",
    "\n",
    "# Database connection details\n",
    "db_config = {\n",
    "    'user': 'unionsearch_springboot',\n",
    "    'password': 'DBsldhs12!',\n",
    "    'host': 'localhost',\n",
    "    'database': 'unionsearch'\n",
    "}\n",
    "\n",
    "\n",
    "# Connect to MySQL\n",
    "conn = mysql.connector.connect(**db_config)\n",
    "cursor = conn.cursor()\n",
    "\n",
    "\n",
    "# Insert data into the positions table\n",
    "insert_query = \"\"\"\n",
    "INSERT INTO positions (title, company, level, status, date, description)\n",
    "VALUES (%s, %s, %s, %s, %s, %s)\n",
    "\"\"\"\n",
    "\n",
    "\n",
    "\n",
    "# Convert the data and insert each row\n",
    "for index, row in data.iterrows():\n",
    "    cursor.execute(insert_query, (\n",
    "        row['title'], \n",
    "        row['company'], \n",
    "        row['level'] if 'level' in row else None,\n",
    "        row['status'] if 'status' in row else None,\n",
    "        row['date'] if 'date' in row else None,\n",
    "        row['description'] if 'description' in row else None\n",
    "    ))\n",
    "\n",
    "\n",
    "# Commit and close\n",
    "conn.commit()\n",
    "cursor.close()\n",
    "conn.close()"
   ]
  },
  {
   "cell_type": "code",
   "execution_count": null,
   "metadata": {},
   "outputs": [],
   "source": []
  }
 ],
 "metadata": {
  "kernelspec": {
   "display_name": "Python 3",
   "language": "python",
   "name": "python3"
  },
  "language_info": {
   "codemirror_mode": {
    "name": "ipython",
    "version": 3
   },
   "file_extension": ".py",
   "mimetype": "text/x-python",
   "name": "python",
   "nbconvert_exporter": "python",
   "pygments_lexer": "ipython3",
   "version": "3.10.12"
  }
 },
 "nbformat": 4,
 "nbformat_minor": 2
}
