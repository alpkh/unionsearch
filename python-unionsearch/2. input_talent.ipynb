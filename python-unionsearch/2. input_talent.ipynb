{
 "cells": [
  {
   "cell_type": "code",
   "execution_count": 1,
   "metadata": {},
   "outputs": [
    {
     "name": "stderr",
     "output_type": "stream",
     "text": [
      "/home/unionsearch/.local/lib/python3.10/site-packages/tqdm/auto.py:21: TqdmWarning: IProgress not found. Please update jupyter and ipywidgets. See https://ipywidgets.readthedocs.io/en/stable/user_install.html\n",
      "  from .autonotebook import tqdm as notebook_tqdm\n"
     ]
    }
   ],
   "source": [
    "import pandas as pd\n",
    "import mysql.connector\n",
    "from tqdm.auto import tqdm\n",
    "\n",
    "# Load data from Excel\n",
    "file_path = 'talent_test_v2.xlsx'\n",
    "data = pd.read_excel(file_path)\n",
    "\n",
    "# Fill NaN values with None (to handle MySQL NULL values properly)\n",
    "data = data.where(pd.notnull(data), None)\n",
    "# Database connection details\n",
    "db_config = {\n",
    "    'user': 'unionsearch_springboot',\n",
    "    'password': 'DBsldhs12!',\n",
    "    'host': 'localhost',\n",
    "    'database': 'unionsearch'\n",
    "}\n",
    "\n",
    "# Connect to MySQL\n",
    "conn = mysql.connector.connect(**db_config)\n",
    "cursor = conn.cursor()\n"
   ]
  },
  {
   "cell_type": "code",
   "execution_count": 2,
   "metadata": {},
   "outputs": [
    {
     "name": "stderr",
     "output_type": "stream",
     "text": [
      "100%|██████████| 10396/10396 [00:00<00:00, 11688.91it/s]\n"
     ]
    }
   ],
   "source": [
    "# Insert data into the talents table\n",
    "insert_query = \"\"\"\n",
    "INSERT INTO talents (date, position, name, birth_year, phone, email, school, experience, expertise, status, \n",
    "                     source, resume_number, contact_person, job_description, qualifications, major_and_career)\n",
    "VALUES (%s, %s, %s, %s, %s, %s, %s, %s, %s, %s, %s, %s, %s, %s, %s, %s)\n",
    "\"\"\"\n",
    "\n",
    "# Convert the data and insert each row\n",
    "for index, row in tqdm(data.iterrows(), total=data.shape[0]):\n",
    "    row_data = (\n",
    "        row['일시'],                  # date\n",
    "        row['포지션'],               # position\n",
    "        row['성명'],                 # name\n",
    "        row['생년'],                 # birth_year\n",
    "        row['전화번호'],             # phone\n",
    "        row['이메일'],               # email\n",
    "        row['학교'],                 # school\n",
    "        row['경력'],                 # experience\n",
    "        row['전문분야'],             # expertise\n",
    "        row['진행사항'],             # status\n",
    "        row['입수경로'],             # source\n",
    "        row['이력서번호'],           # resume_number\n",
    "        row['컨택담당자'],           # contact_person\n",
    "        row['업무내용'],             # job_description\n",
    "        row['자격요건'],             # qualifications\n",
    "        row['관련전공 및 경력']       # major_and_career\n",
    "    )\n",
    "    cursor.execute(insert_query, row_data)\n"
   ]
  },
  {
   "cell_type": "code",
   "execution_count": 3,
   "metadata": {},
   "outputs": [],
   "source": [
    "# Commit and close\n",
    "conn.commit()\n",
    "cursor.close()\n",
    "conn.close()\n"
   ]
  },
  {
   "cell_type": "code",
   "execution_count": 4,
   "metadata": {},
   "outputs": [
    {
     "data": {
      "text/html": [
       "<div>\n",
       "<style scoped>\n",
       "    .dataframe tbody tr th:only-of-type {\n",
       "        vertical-align: middle;\n",
       "    }\n",
       "\n",
       "    .dataframe tbody tr th {\n",
       "        vertical-align: top;\n",
       "    }\n",
       "\n",
       "    .dataframe thead th {\n",
       "        text-align: right;\n",
       "    }\n",
       "</style>\n",
       "<table border=\"1\" class=\"dataframe\">\n",
       "  <thead>\n",
       "    <tr style=\"text-align: right;\">\n",
       "      <th></th>\n",
       "      <th>일시</th>\n",
       "    </tr>\n",
       "  </thead>\n",
       "  <tbody>\n",
       "    <tr>\n",
       "      <th>count</th>\n",
       "      <td>1.039600e+04</td>\n",
       "    </tr>\n",
       "    <tr>\n",
       "      <th>mean</th>\n",
       "      <td>2.020381e+07</td>\n",
       "    </tr>\n",
       "    <tr>\n",
       "      <th>std</th>\n",
       "      <td>3.657883e+04</td>\n",
       "    </tr>\n",
       "    <tr>\n",
       "      <th>min</th>\n",
       "      <td>1.900010e+07</td>\n",
       "    </tr>\n",
       "    <tr>\n",
       "      <th>25%</th>\n",
       "      <td>2.019112e+07</td>\n",
       "    </tr>\n",
       "    <tr>\n",
       "      <th>50%</th>\n",
       "      <td>2.021030e+07</td>\n",
       "    </tr>\n",
       "    <tr>\n",
       "      <th>75%</th>\n",
       "      <td>2.022072e+07</td>\n",
       "    </tr>\n",
       "    <tr>\n",
       "      <th>max</th>\n",
       "      <td>2.024040e+07</td>\n",
       "    </tr>\n",
       "  </tbody>\n",
       "</table>\n",
       "</div>"
      ],
      "text/plain": [
       "                 일시\n",
       "count  1.039600e+04\n",
       "mean   2.020381e+07\n",
       "std    3.657883e+04\n",
       "min    1.900010e+07\n",
       "25%    2.019112e+07\n",
       "50%    2.021030e+07\n",
       "75%    2.022072e+07\n",
       "max    2.024040e+07"
      ]
     },
     "execution_count": 4,
     "metadata": {},
     "output_type": "execute_result"
    }
   ],
   "source": [
    "data.describe()"
   ]
  },
  {
   "cell_type": "code",
   "execution_count": 5,
   "metadata": {},
   "outputs": [
    {
     "name": "stdout",
     "output_type": "stream",
     "text": [
      "<class 'pandas.core.frame.DataFrame'>\n",
      "RangeIndex: 10396 entries, 0 to 10395\n",
      "Data columns (total 16 columns):\n",
      " #   Column     Non-Null Count  Dtype \n",
      "---  ------     --------------  ----- \n",
      " 0   일시         10396 non-null  int64 \n",
      " 1   포지션        10396 non-null  object\n",
      " 2   성명         10396 non-null  object\n",
      " 3   생년         10395 non-null  object\n",
      " 4   전화번호       10396 non-null  object\n",
      " 5   이메일        10396 non-null  object\n",
      " 6   학교         10396 non-null  object\n",
      " 7   경력         10396 non-null  object\n",
      " 8   전문분야       10396 non-null  object\n",
      " 9   진행사항       10395 non-null  object\n",
      " 10  입수경로       10396 non-null  object\n",
      " 11  이력서번호      10396 non-null  object\n",
      " 12  컨택담당자      10396 non-null  object\n",
      " 13  업무내용       10395 non-null  object\n",
      " 14  자격요건       10396 non-null  object\n",
      " 15  관련전공 및 경력  10396 non-null  object\n",
      "dtypes: int64(1), object(15)\n",
      "memory usage: 1.3+ MB\n"
     ]
    }
   ],
   "source": [
    "data.info()"
   ]
  },
  {
   "cell_type": "code",
   "execution_count": 6,
   "metadata": {},
   "outputs": [
    {
     "ename": "MySQLInterfaceError",
     "evalue": "MySQL server has gone away",
     "output_type": "error",
     "traceback": [
      "\u001b[0;31m---------------------------------------------------------------------------\u001b[0m",
      "\u001b[0;31mMySQLInterfaceError\u001b[0m                       Traceback (most recent call last)",
      "Cell \u001b[0;32mIn[6], line 2\u001b[0m\n\u001b[1;32m      1\u001b[0m \u001b[38;5;66;03m# Commit and close\u001b[39;00m\n\u001b[0;32m----> 2\u001b[0m \u001b[43mconn\u001b[49m\u001b[38;5;241;43m.\u001b[39;49m\u001b[43mcommit\u001b[49m\u001b[43m(\u001b[49m\u001b[43m)\u001b[49m\n\u001b[1;32m      3\u001b[0m cursor\u001b[38;5;241m.\u001b[39mclose()\n\u001b[1;32m      4\u001b[0m conn\u001b[38;5;241m.\u001b[39mclose()\n",
      "File \u001b[0;32m~/.local/lib/python3.10/site-packages/mysql/connector/connection_cext.py:577\u001b[0m, in \u001b[0;36mCMySQLConnection.commit\u001b[0;34m(self)\u001b[0m\n\u001b[1;32m    575\u001b[0m \u001b[38;5;28;01mif\u001b[39;00m \u001b[38;5;28mself\u001b[39m\u001b[38;5;241m.\u001b[39m_cmysql:\n\u001b[1;32m    576\u001b[0m     \u001b[38;5;28mself\u001b[39m\u001b[38;5;241m.\u001b[39mhandle_unread_result()\n\u001b[0;32m--> 577\u001b[0m     \u001b[38;5;28;43mself\u001b[39;49m\u001b[38;5;241;43m.\u001b[39;49m\u001b[43m_cmysql\u001b[49m\u001b[38;5;241;43m.\u001b[39;49m\u001b[43mcommit\u001b[49m\u001b[43m(\u001b[49m\u001b[43m)\u001b[49m\n",
      "\u001b[0;31mMySQLInterfaceError\u001b[0m: MySQL server has gone away"
     ]
    }
   ],
   "source": [
    "# Commit and close\n",
    "conn.commit()\n",
    "cursor.close()\n",
    "conn.close()"
   ]
  },
  {
   "cell_type": "code",
   "execution_count": null,
   "metadata": {},
   "outputs": [],
   "source": []
  }
 ],
 "metadata": {
  "kernelspec": {
   "display_name": "Python 3",
   "language": "python",
   "name": "python3"
  },
  "language_info": {
   "codemirror_mode": {
    "name": "ipython",
    "version": 3
   },
   "file_extension": ".py",
   "mimetype": "text/x-python",
   "name": "python",
   "nbconvert_exporter": "python",
   "pygments_lexer": "ipython3",
   "version": "3.10.12"
  }
 },
 "nbformat": 4,
 "nbformat_minor": 2
}
